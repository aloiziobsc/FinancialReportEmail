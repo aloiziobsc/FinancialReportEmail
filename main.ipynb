{
 "cells": [
  {
   "cell_type": "markdown",
   "id": "07400f29",
   "metadata": {},
   "source": [
    "# Projeto - Relatório de fechamento de Mercado por e-mail"
   ]
  },
  {
   "cell_type": "markdown",
   "id": "b3ae54bf",
   "metadata": {},
   "source": [
    "## Instalando bibliotecas necessárias"
   ]
  },
  {
   "cell_type": "code",
   "execution_count": 4,
   "id": "bd93178f",
   "metadata": {},
   "outputs": [
    {
     "name": "stdout",
     "output_type": "stream",
     "text": [
      "Requirement already satisfied: yfinance==0.1.74 in f:\\python\\lib\\site-packages (0.1.74)\n",
      "Requirement already satisfied: lxml>=4.5.1 in f:\\python\\lib\\site-packages (from yfinance==0.1.74) (4.9.1)\n",
      "Requirement already satisfied: numpy>=1.15 in f:\\python\\lib\\site-packages (from yfinance==0.1.74) (1.21.5)\n",
      "Requirement already satisfied: pandas>=0.24.0 in f:\\python\\lib\\site-packages (from yfinance==0.1.74) (1.4.4)\n",
      "Requirement already satisfied: requests>=2.26 in f:\\python\\lib\\site-packages (from yfinance==0.1.74) (2.28.1)\n",
      "Requirement already satisfied: multitasking>=0.0.7 in f:\\python\\lib\\site-packages (from yfinance==0.1.74) (0.0.11)\n",
      "Requirement already satisfied: pytz>=2020.1 in f:\\python\\lib\\site-packages (from pandas>=0.24.0->yfinance==0.1.74) (2022.1)\n",
      "Requirement already satisfied: python-dateutil>=2.8.1 in f:\\python\\lib\\site-packages (from pandas>=0.24.0->yfinance==0.1.74) (2.8.2)\n",
      "Requirement already satisfied: urllib3<1.27,>=1.21.1 in f:\\python\\lib\\site-packages (from requests>=2.26->yfinance==0.1.74) (1.26.11)\n",
      "Requirement already satisfied: charset-normalizer<3,>=2 in f:\\python\\lib\\site-packages (from requests>=2.26->yfinance==0.1.74) (2.0.4)\n",
      "Requirement already satisfied: idna<4,>=2.5 in f:\\python\\lib\\site-packages (from requests>=2.26->yfinance==0.1.74) (3.3)\n",
      "Requirement already satisfied: certifi>=2017.4.17 in f:\\python\\lib\\site-packages (from requests>=2.26->yfinance==0.1.74) (2022.9.14)\n",
      "Requirement already satisfied: six>=1.5 in f:\\python\\lib\\site-packages (from python-dateutil>=2.8.1->pandas>=0.24.0->yfinance==0.1.74) (1.16.0)\n",
      "Note: you may need to restart the kernel to use updated packages.\n",
      "Requirement already satisfied: mplcyberpunk in f:\\python\\lib\\site-packages (0.6.0)\n",
      "Requirement already satisfied: matplotlib in f:\\python\\lib\\site-packages (from mplcyberpunk) (3.5.2)\n",
      "Requirement already satisfied: cycler>=0.10 in f:\\python\\lib\\site-packages (from matplotlib->mplcyberpunk) (0.11.0)\n",
      "Requirement already satisfied: numpy>=1.17 in f:\\python\\lib\\site-packages (from matplotlib->mplcyberpunk) (1.21.5)\n",
      "Requirement already satisfied: packaging>=20.0 in f:\\python\\lib\\site-packages (from matplotlib->mplcyberpunk) (21.3)\n",
      "Requirement already satisfied: pillow>=6.2.0 in f:\\python\\lib\\site-packages (from matplotlib->mplcyberpunk) (9.2.0)\n",
      "Requirement already satisfied: fonttools>=4.22.0 in f:\\python\\lib\\site-packages (from matplotlib->mplcyberpunk) (4.25.0)\n",
      "Requirement already satisfied: pyparsing>=2.2.1 in f:\\python\\lib\\site-packages (from matplotlib->mplcyberpunk) (3.0.9)\n",
      "Requirement already satisfied: kiwisolver>=1.0.1 in f:\\python\\lib\\site-packages (from matplotlib->mplcyberpunk) (1.4.2)\n",
      "Requirement already satisfied: python-dateutil>=2.7 in f:\\python\\lib\\site-packages (from matplotlib->mplcyberpunk) (2.8.2)\n",
      "Requirement already satisfied: six>=1.5 in f:\\python\\lib\\site-packages (from python-dateutil>=2.7->matplotlib->mplcyberpunk) (1.16.0)\n",
      "Note: you may need to restart the kernel to use updated packages.\n",
      "Requirement already satisfied: pywin32 in f:\\python\\lib\\site-packages (302)\n",
      "Note: you may need to restart the kernel to use updated packages.\n"
     ]
    }
   ],
   "source": [
    "!pip install yfinance==0.1.74\n",
    "!pip install mplcyberpunk\n",
    "!pip install pywin32"
   ]
  },
  {
   "cell_type": "markdown",
   "id": "d8eba8b4",
   "metadata": {},
   "source": [
    "## Importando módulos necessários"
   ]
  },
  {
   "cell_type": "code",
   "execution_count": 6,
   "id": "759c349f",
   "metadata": {},
   "outputs": [],
   "source": [
    "import pandas as pd\n",
    "import datetime\n",
    "import yfinance as yf\n",
    "from matplotlib import pyplot as plt\n",
    "import mplcyberpunk\n",
    "import win32.client as win32"
   ]
  },
  {
   "cell_type": "markdown",
   "id": "5fafd6e2",
   "metadata": {},
   "source": [
    "## Pegar os dados do Yahoo Finance"
   ]
  },
  {
   "cell_type": "code",
   "execution_count": null,
   "id": "0e00c9e9",
   "metadata": {},
   "outputs": [],
   "source": [
    "codigos_de_negociacao = [\"^BVSP\", \"BRL=X\"]\n",
    "\n",
    "hoje = datetime.datetime.now()\n",
    "um_ano_atras = hoje - datetime.timedelta(days =365)\n",
    "\n",
    "dados_mercado = yf.download(codigos_de_negociacao, um_ano_atras, hoje)\n",
    "\n",
    "display(dados_mercado)"
   ]
  },
  {
   "cell_type": "markdown",
   "id": "b33f16d7",
   "metadata": {},
   "source": [
    "## Removendo coluna dos dados de fechamento"
   ]
  },
  {
   "cell_type": "code",
   "execution_count": null,
   "id": "ba1a7331",
   "metadata": {},
   "outputs": [],
   "source": [
    "dados_fechamento = dados_mercado['Adj Close']\n",
    "dados_fechamento.columns = ['dolar', 'ibovespa']\n",
    "dados_fechamento = dados_fechamento.dropna()\n",
    "display(dados_fechamento)"
   ]
  },
  {
   "cell_type": "markdown",
   "id": "c2542e11",
   "metadata": {},
   "source": [
    "## Agregação de dados Mensais e Anuais"
   ]
  },
  {
   "cell_type": "code",
   "execution_count": null,
   "id": "0acf1a72",
   "metadata": {},
   "outputs": [],
   "source": [
    "dados_anuais = dados_fechamento.resample(\"Y\").last()\n",
    "dados_mensais = dados_fechamento.resample(\"M\").last()\n",
    "display(dados_anuais)\n",
    "display(dados_mensais)"
   ]
  },
  {
   "cell_type": "markdown",
   "id": "e4b998fc",
   "metadata": {},
   "source": [
    "## Retorno em diferentes períodos"
   ]
  },
  {
   "cell_type": "code",
   "execution_count": null,
   "id": "b2066114",
   "metadata": {},
   "outputs": [],
   "source": [
    "retorno_anual = dados_anuais.pct_change().dropna()\n",
    "retorno_mensal = dados_mensais.pct_change().dropna()\n",
    "retorno_diario = dados_fechamento.pct_change().dropna()\n",
    "retorno_diario"
   ]
  },
  {
   "cell_type": "markdown",
   "id": "a59e1a16",
   "metadata": {},
   "source": [
    "## Localizar valor na tabela com loc e iloc"
   ]
  },
  {
   "cell_type": "code",
   "execution_count": null,
   "id": "f487deb7",
   "metadata": {},
   "outputs": [],
   "source": [
    "#retorno_09_fev_2022_loc = retorno_diario.loc['2022-02-09', 'dolar']\n",
    "#retorno_09_fev_2022_iloc = retorno_diario.iloc[1, 0]\n",
    "\n",
    "retorno_diario_dolar = retorno_diario.iloc[-1, 0]\n",
    "retorno_diario_dolar = round((retorno_diario_dolar * 100), 2)\n",
    "\n",
    "retorno_diario_ibovespa = retorno_diario.iloc[-1, 1]\n",
    "retorno_diario_ibovespa = round((retorno_diario_ibovespa * 100), 2)\n",
    "\n",
    "\n",
    "retorno_mensal_dolar = dados_mensais.iloc[-1, 0]\n",
    "retorno_mensal_dolar = round((retorno_mensal_dolar * 100), 2)\n",
    "\n",
    "retorno_mensal_ibovespa = dados_mensais.iloc[-1, 1]\n",
    "retorno_mensal_ibovespa = round((retorno_mensal_ibovespa * 100), 2)\n",
    "\n",
    "\n",
    "retorno_anual_dolar = retorno_anual.iloc[-1, 0]\n",
    "retorno_anual_dolar = round((retorno_anual_dolar * 100), 2)\n",
    "\n",
    "retorno_anual_ibovespa = retorno_anual.iloc[-1, 1]\n",
    "retorno_anual_ibovespa = round((retorno_anual_ibovespa * 100), 2)\n",
    "retorno_anual_ibovespa"
   ]
  },
  {
   "cell_type": "markdown",
   "id": "8415c15b",
   "metadata": {},
   "source": [
    "## Criar gráfico com base nos dados de fechamento"
   ]
  },
  {
   "cell_type": "markdown",
   "id": "e89aba27",
   "metadata": {},
   "source": [
    "### Ibovespa"
   ]
  },
  {
   "cell_type": "code",
   "execution_count": null,
   "id": "27af2925",
   "metadata": {},
   "outputs": [],
   "source": [
    "plt.style.use('cyberpunk')\n",
    "dados_fechamento.plot(y = 'ibovespa', use_index = True, legend = False)\n",
    "plt.title('Ibovespa')\n",
    "plt.savefig('ibovespa.png', dpi=300)\n",
    "plt.show()"
   ]
  },
  {
   "cell_type": "markdown",
   "id": "d11bef07",
   "metadata": {},
   "source": [
    "### Dolar"
   ]
  },
  {
   "cell_type": "code",
   "execution_count": null,
   "id": "0613417b",
   "metadata": {},
   "outputs": [],
   "source": [
    "plt.style.use('cyberpunk')\n",
    "dados_fechamento.plot(y = 'dolar', use_index = True, legend = False)\n",
    "plt.title('Dólar')\n",
    "plt.savefig('dolar.png', dpi=300)\n",
    "plt.show()"
   ]
  },
  {
   "cell_type": "markdown",
   "id": "ad14b603",
   "metadata": {},
   "source": [
    "## Enviar e-mail"
   ]
  },
  {
   "cell_type": "code",
   "execution_count": null,
   "id": "c72aada6",
   "metadata": {},
   "outputs": [
    {
     "ename": "NameError",
     "evalue": "name 'win32' is not defined",
     "output_type": "error",
     "traceback": [
      "\u001b[1;31m---------------------------------------------------------------------------\u001b[0m",
      "\u001b[1;31mNameError\u001b[0m                                 Traceback (most recent call last)",
      "\u001b[1;32m~\\AppData\\Local\\Temp\\ipykernel_2144\\1819134599.py\u001b[0m in \u001b[0;36m<module>\u001b[1;34m\u001b[0m\n\u001b[1;32m----> 1\u001b[1;33m \u001b[0moutlook\u001b[0m \u001b[1;33m=\u001b[0m \u001b[0mwin32\u001b[0m\u001b[1;33m.\u001b[0m\u001b[0mDispatch\u001b[0m\u001b[1;33m(\u001b[0m\u001b[1;34m\"outlook.application\"\u001b[0m\u001b[1;33m)\u001b[0m\u001b[1;33m\u001b[0m\u001b[1;33m\u001b[0m\u001b[0m\n\u001b[0m\u001b[0;32m      2\u001b[0m \u001b[0memail\u001b[0m \u001b[1;33m=\u001b[0m \u001b[0moutlook\u001b[0m\u001b[1;33m.\u001b[0m\u001b[0mCreateItem\u001b[0m\u001b[1;33m(\u001b[0m\u001b[1;36m0\u001b[0m\u001b[1;33m)\u001b[0m\u001b[1;33m\u001b[0m\u001b[1;33m\u001b[0m\u001b[0m\n\u001b[0;32m      3\u001b[0m \u001b[1;33m\u001b[0m\u001b[0m\n\u001b[0;32m      4\u001b[0m \u001b[0memail\u001b[0m\u001b[1;33m.\u001b[0m\u001b[0mTo\u001b[0m \u001b[1;33m=\u001b[0m \u001b[1;34m'coelho.absc@gmail.com'\u001b[0m\u001b[1;33m\u001b[0m\u001b[1;33m\u001b[0m\u001b[0m\n\u001b[0;32m      5\u001b[0m \u001b[0memail\u001b[0m\u001b[1;33m.\u001b[0m\u001b[0mSubject\u001b[0m \u001b[1;33m=\u001b[0m \u001b[1;34m'Relatório Diário'\u001b[0m\u001b[1;33m\u001b[0m\u001b[1;33m\u001b[0m\u001b[0m\n",
      "\u001b[1;31mNameError\u001b[0m: name 'win32' is not defined"
     ]
    }
   ],
   "source": [
    "outlook = win32.Dispatch(\"outlook.application\")\n",
    "email = outlook.CreateItem(0)\n",
    "\n",
    "email.To = 'coelho.absc@gmail.com'\n",
    "email.Subject = 'Relatório Diário'\n",
    "fulano = 'Antônio'\n",
    "email.Body = f''' {fulano}, segue o relatório diário:\n",
    "\n",
    "    Bolsa:\n",
    "    No ano o Ibovespa está tendo uma rentailidade de {retorno_anual_ibovespa}%,\n",
    "    enquanto no mês a rentabilidade é de {retorno_mensal_ibovespa}%\n",
    "    \n",
    "    No último dia útil, o retorno do Ibovespa foi de {retorno_diario_ibovespa}%.\n",
    "    \n",
    "    \n",
    "    Dólar:\n",
    "    No ano o Dólar está tendo uma rentailidade de {retorno_anual_dolar}%,\n",
    "    enquanto no mês a rentabilidade é de {retorno_mensal_dolar}%\n",
    "    \n",
    "    No último dia útil, o retorno do Dólar foi de {retorno_diario_dolar}%.\n",
    "\n",
    "'''\n",
    "\n",
    "anexo_ibovespa = r'C:\\src\\ibovespa.png'\n",
    "anexo_dolar = r'C:\\src\\dolar.png'\n",
    "\n",
    "email.Attachments.Add(anexo_ibovespa)\n",
    "email.Attachments.Add(anexo_dolar)\n",
    "\n",
    "email.Send()"
   ]
  },
  {
   "cell_type": "code",
   "execution_count": null,
   "id": "3ecf0d57",
   "metadata": {},
   "outputs": [],
   "source": []
  }
 ],
 "metadata": {
  "kernelspec": {
   "display_name": "base",
   "language": "python",
   "name": "python3"
  },
  "language_info": {
   "codemirror_mode": {
    "name": "ipython",
    "version": 3
   },
   "file_extension": ".py",
   "mimetype": "text/x-python",
   "name": "python",
   "nbconvert_exporter": "python",
   "pygments_lexer": "ipython3",
   "version": "3.9.13"
  },
  "vscode": {
   "interpreter": {
    "hash": "78f5b707d86fd9281530b9fa2dbdbe1b33232c3b651a8e052360c651d4996094"
   }
  }
 },
 "nbformat": 4,
 "nbformat_minor": 5
}
